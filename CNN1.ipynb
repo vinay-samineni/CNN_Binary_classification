{
 "cells": [
  {
   "cell_type": "code",
   "execution_count": null,
   "metadata": {
    "colab": {
     "base_uri": "https://localhost:8080/"
    },
    "executionInfo": {
     "elapsed": 6868,
     "status": "ok",
     "timestamp": 1747276306002,
     "user": {
      "displayName": "vinay samineni",
      "userId": "06600867491449533649"
     },
     "user_tz": -330
    },
    "id": "-lYTp3Z2bD2L",
    "outputId": "0345220c-d2e1-4f5a-cf19-12ccf883d524"
   },
   "outputs": [],
   "source": [
    "!pip install tensorflow"
   ]
  },
  {
   "cell_type": "code",
   "execution_count": null,
   "metadata": {
    "id": "GIXTE17UbMWs"
   },
   "outputs": [],
   "source": [
    "import tensorflow as tf\n",
    "import tensorflow_datasets as tfds\n",
    "import matplotlib.pyplot as plt"
   ]
  },
  {
   "cell_type": "code",
   "execution_count": null,
   "metadata": {
    "colab": {
     "base_uri": "https://localhost:8080/",
     "height": 170,
     "referenced_widgets": [
      "5b3e31ba7b7448c29b9a0a1b05d68a23",
      "3bc2012c736d4e67a37bf4784c423db0",
      "84d0121ad9684dbca17366b8d47a6a81",
      "e7f54fda8af4466399165f2134e307ce",
      "ff0f78a7ca5e41059c71c95a60bb8add",
      "86725735157e43e19763507183c426be",
      "f5922584db2347d39290fbbb2789f299",
      "083145364c8442dd9db8ecf358d5ff1b",
      "48f75281c9ed4823aefb50112e1b6712",
      "200398e527404ef3a45515ae9d656842",
      "a8095782af1642d2afcae916d278cf28",
      "322888b0284e4187b2403259eabc18e7",
      "d7d3f3ed88f342eaab3fba1c57b4c2c7",
      "59fa0e484b804f8fac7172e39335d4ba",
      "b5815c626f9a4aa28aee2b59c91232cf",
      "07c91db123fa4f309091bd84ec064db2",
      "4b2208b056604aad94f2fb872477097c",
      "a4808b7ee0964937b7300664487daae7",
      "694c6314d0f2492db37c182501a97a0c",
      "55423a16fa98470e81861d1cbbb04150",
      "fe299cf8e7304d1683e85fcd9bb0accf",
      "e16ac7e557624a37b931b5bdeb3daf49",
      "eac325fa1e7b4c0daec4029c88cee7f8",
      "f73c705b85f542ce82a466998f8cd428",
      "6ae5e3cb5698462d8f02fae8126c48c5",
      "0a968e6064b34069b83d682a4ef69278",
      "a7c90a91ac7f4a6a938737fedecc6223",
      "7f548321294a4bcab5bf1189a18bffa9",
      "2ab6cbaa7fd34d16bb7d2947d11c5d78",
      "cef874dcca2243758a73862ae60847dd",
      "9c7ecaec5c874f9781bcff46dd6966f7",
      "6e75ab44a69a413f9945d1533d60d37d",
      "39258595bd924d62ae10d30735bbd228",
      "b4a6098bce4b401a9cc26ee188e36673",
      "b7a45df23c0045ae98a48db1bb98ce1f",
      "d4fdd9db57a743ac8904cc6b8059ec9b",
      "a6f87b7395c34666ad636cdfa3f81073",
      "ddc71deb43814a22983ecd5c3552bd52",
      "c0d09a3e8e6143b5824e1b1dc4a06974",
      "b24fc7c24269432486389b2e3b9c1b40",
      "06165267d4f749629c3f54939ddcf7c3",
      "a2ec173172464b21ba62ccc9667ea020",
      "ad803664138445d7a5b2199f2947834f",
      "f039b1a27c2e4327a0b1599cc64d93bd",
      "0e6eb6ef411a4b24b616e6d1006b2318",
      "b3a5ad6078304b9890a15f973748f84f",
      "2e3644213769443b8ab00376c20f8adb",
      "aec9785afac84427bbe90c725d0f954d",
      "fb071f9b5b7143878d8d9d54c40d107a",
      "4bdf2ca6de1743b1b1eda999f4ff0df0",
      "aecfb61d4d2746d19c90c5f64002d407",
      "18e2615bf54e4d95921595080fa99dba",
      "928db2e09b104e75874a77506f69d94b",
      "a34ba243bb4644e29ee3662a1677a74e",
      "b27217cc179b415bb224711dc8b8d0cb"
     ]
    },
    "executionInfo": {
     "elapsed": 90327,
     "status": "ok",
     "timestamp": 1747276422173,
     "user": {
      "displayName": "vinay samineni",
      "userId": "06600867491449533649"
     },
     "user_tz": -330
    },
    "id": "VyVXT8EiqvoH",
    "outputId": "fb995bb4-0a87-4028-ab8c-446733cb4c82"
   },
   "outputs": [],
   "source": [
    "dataset, info = tfds.load('cats_vs_dogs', split='train', with_info=True, as_supervised=True)"
   ]
  },
  {
   "cell_type": "code",
   "execution_count": null,
   "metadata": {
    "id": "v_NRhwKaq09a"
   },
   "outputs": [],
   "source": [
    "total_examples = info.splits['train'].num_examples\n",
    "train_size = int(0.8 * total_examples)  # 80% train\n",
    "val_size = total_examples - train_size  # 20% validation"
   ]
  },
  {
   "cell_type": "code",
   "execution_count": null,
   "metadata": {
    "colab": {
     "base_uri": "https://localhost:8080/"
    },
    "executionInfo": {
     "elapsed": 12,
     "status": "ok",
     "timestamp": 1747276427762,
     "user": {
      "displayName": "vinay samineni",
      "userId": "06600867491449533649"
     },
     "user_tz": -330
    },
    "id": "X8pbR4v0rNDT",
    "outputId": "b5d40514-7a5f-4ae3-91d2-c6d62d60cdce"
   },
   "outputs": [],
   "source": [
    "print(val_size)"
   ]
  },
  {
   "cell_type": "code",
   "execution_count": null,
   "metadata": {
    "colab": {
     "base_uri": "https://localhost:8080/"
    },
    "executionInfo": {
     "elapsed": 11,
     "status": "ok",
     "timestamp": 1747276428686,
     "user": {
      "displayName": "vinay samineni",
      "userId": "06600867491449533649"
     },
     "user_tz": -330
    },
    "id": "XYIgMeGSrQd-",
    "outputId": "1f76ea48-690f-4690-a52e-4fbf9d8a22dd"
   },
   "outputs": [],
   "source": [
    "print(train_size)"
   ]
  },
  {
   "cell_type": "code",
   "execution_count": null,
   "metadata": {
    "colab": {
     "base_uri": "https://localhost:8080/",
     "height": 435
    },
    "executionInfo": {
     "elapsed": 982,
     "status": "ok",
     "timestamp": 1747276430574,
     "user": {
      "displayName": "vinay samineni",
      "userId": "06600867491449533649"
     },
     "user_tz": -330
    },
    "id": "G-XgxA9OrTXq",
    "outputId": "750f594f-1042-4dbd-a014-be085f5e0519"
   },
   "outputs": [],
   "source": [
    "for image,_ in dataset.take(1):\n",
    "  plt.imshow(image)\n",
    "  plt.show()"
   ]
  },
  {
   "cell_type": "code",
   "execution_count": null,
   "metadata": {
    "id": "evteRrqEr9hq"
   },
   "outputs": [],
   "source": [
    "def preprocess(image, label):\n",
    "    image = tf.image.resize(image, (150, 150))\n",
    "    image = image / 255.0  # Normalize to [0,1]\n",
    "    return image, label"
   ]
  },
  {
   "cell_type": "code",
   "execution_count": null,
   "metadata": {
    "id": "cIp9YabRsdTx"
   },
   "outputs": [],
   "source": [
    "dataset = dataset.shuffle(1000, reshuffle_each_iteration=False)\n",
    "\n",
    "train_data = dataset.take(train_size).map(preprocess).batch(32).prefetch(tf.data.AUTOTUNE)\n",
    "val_data = dataset.skip(train_size).map(preprocess).batch(32).prefetch(tf.data.AUTOTUNE)"
   ]
  },
  {
   "cell_type": "code",
   "execution_count": null,
   "metadata": {
    "colab": {
     "base_uri": "https://localhost:8080/"
    },
    "executionInfo": {
     "elapsed": 1435,
     "status": "ok",
     "timestamp": 1747276438503,
     "user": {
      "displayName": "vinay samineni",
      "userId": "06600867491449533649"
     },
     "user_tz": -330
    },
    "id": "fefQCBHDs4Bc",
    "outputId": "5282d263-55e2-4ab3-c5bc-b55e15816c34"
   },
   "outputs": [],
   "source": [
    "model = tf.keras.Sequential([\n",
    "    tf.keras.layers.Conv2D(32, (3, 3), activation='relu', input_shape=(150, 150, 3)),\n",
    "    tf.keras.layers.MaxPooling2D(2, 2),\n",
    "\n",
    "    tf.keras.layers.Conv2D(64, (3, 3), activation='relu'),\n",
    "    tf.keras.layers.MaxPooling2D(2, 2),\n",
    "\n",
    "    tf.keras.layers.Conv2D(128, (3, 3), activation='relu'),\n",
    "    tf.keras.layers.MaxPooling2D(2, 2),\n",
    "\n",
    "    tf.keras.layers.Flatten(),\n",
    "    tf.keras.layers.Dense(128, activation='relu'),\n",
    "    tf.keras.layers.Dense(1, activation='sigmoid')  # Binary classification\n",
    "])\n"
   ]
  },
  {
   "cell_type": "code",
   "execution_count": null,
   "metadata": {
    "id": "LaTLDnHvt6hZ"
   },
   "outputs": [],
   "source": [
    "# 7. Compile the Model\n",
    "model.compile(optimizer='adam',\n",
    "              loss='binary_crossentropy',\n",
    "              metrics=['accuracy'])"
   ]
  },
  {
   "cell_type": "code",
   "execution_count": null,
   "metadata": {
    "colab": {
     "base_uri": "https://localhost:8080/"
    },
    "executionInfo": {
     "elapsed": 666969,
     "status": "ok",
     "timestamp": 1747277108243,
     "user": {
      "displayName": "vinay samineni",
      "userId": "06600867491449533649"
     },
     "user_tz": -330
    },
    "id": "vj-12K1QxAOY",
    "outputId": "c4629499-cc9a-405a-d538-49392e4d8daf"
   },
   "outputs": [],
   "source": [
    "history = model.fit(train_data, epochs=10, validation_data=val_data)"
   ]
  },
  {
   "cell_type": "code",
   "execution_count": null,
   "metadata": {
    "colab": {
     "base_uri": "https://localhost:8080/",
     "height": 472
    },
    "executionInfo": {
     "elapsed": 87,
     "status": "ok",
     "timestamp": 1747277132063,
     "user": {
      "displayName": "vinay samineni",
      "userId": "06600867491449533649"
     },
     "user_tz": -330
    },
    "id": "Zgx8soInxHR7",
    "outputId": "3f281bd6-2172-4d67-a01f-9c6f54a44703"
   },
   "outputs": [],
   "source": [
    "# 9. Plot Accuracy and Loss\n",
    "plt.plot(history.history['accuracy'], label='Train Accuracy')\n",
    "plt.plot(history.history['val_accuracy'], label='Val Accuracy')\n",
    "plt.xlabel('Epoch')\n",
    "plt.ylabel('Accuracy')\n",
    "plt.legend()\n",
    "plt.title('Model Accuracy')\n",
    "plt.show()"
   ]
  },
  {
   "cell_type": "code",
   "execution_count": null,
   "metadata": {
    "colab": {
     "base_uri": "https://localhost:8080/"
    },
    "executionInfo": {
     "elapsed": 21723,
     "status": "ok",
     "timestamp": 1747277266955,
     "user": {
      "displayName": "vinay samineni",
      "userId": "06600867491449533649"
     },
     "user_tz": -330
    },
    "id": "VVdsvaOb1S-D",
    "outputId": "10add1e2-d9f6-4a09-aa61-379bb96cb1f2"
   },
   "outputs": [],
   "source": [
    "# Assuming you already have `val_data` prepared\n",
    "loss, acc = model.evaluate(val_data)\n",
    "print(f\"Validation Accuracy: {acc:.4f}\")\n"
   ]
  },
  {
   "cell_type": "code",
   "execution_count": null,
   "metadata": {
    "colab": {
     "base_uri": "https://localhost:8080/"
    },
    "executionInfo": {
     "elapsed": 106,
     "status": "ok",
     "timestamp": 1747277280148,
     "user": {
      "displayName": "vinay samineni",
      "userId": "06600867491449533649"
     },
     "user_tz": -330
    },
    "id": "xO6wdaB21un9",
    "outputId": "7064e0a5-75ca-4b8e-d20f-cfc5a954b4f4"
   },
   "outputs": [],
   "source": [
    "# Save the trained model\n",
    "model.save(\"cats_dogs_model.h5\")\n"
   ]
  },
  {
   "cell_type": "code",
   "execution_count": null,
   "metadata": {
    "colab": {
     "base_uri": "https://localhost:8080/"
    },
    "executionInfo": {
     "elapsed": 21815,
     "status": "ok",
     "timestamp": 1747277320799,
     "user": {
      "displayName": "vinay samineni",
      "userId": "06600867491449533649"
     },
     "user_tz": -330
    },
    "id": "w-7ZymkT13H2",
    "outputId": "81ce2a30-6e85-4176-a30e-c2dddbb08b8c"
   },
   "outputs": [],
   "source": [
    "# Load it again later\n",
    "model = tf.keras.models.load_model(\"cats_dogs_model.h5\")\n",
    "\n",
    "# Then evaluate accuracy\n",
    "loss, acc = model.evaluate(val_data)\n",
    "print(f\"Restored Model Accuracy: {acc:.4f}\")\n"
   ]
  },
  {
   "cell_type": "code",
   "execution_count": null,
   "metadata": {
    "executionInfo": {
     "elapsed": 13,
     "status": "ok",
     "timestamp": 1747282607217,
     "user": {
      "displayName": "vinay samineni",
      "userId": "06600867491449533649"
     },
     "user_tz": -330
    },
    "id": "TSd6FIUd17vd"
   },
   "outputs": [],
   "source": [
    "!git config --global user.email \"saminenivinay999@gmail.com\"\n",
    "!git config --global user.name \"Vinay Samineni\"\n"
   ]
  },
  {
   "cell_type": "code",
   "execution_count": null,
   "metadata": {
    "colab": {
     "base_uri": "https://localhost:8080/"
    },
    "executionInfo": {
     "elapsed": 835,
     "status": "ok",
     "timestamp": 1747282630545,
     "user": {
      "displayName": "vinay samineni",
      "userId": "06600867491449533649"
     },
     "user_tz": -330
    },
    "id": "QZlZC4sVKLhK",
    "outputId": "ac57c800-4087-405b-bc1d-6c26fbcf428f"
   },
   "outputs": [],
   "source": [
    "!git clone https://github.com/vinay-samineni/CNN_Binary_classification.git\n"
   ]
  },
  {
   "cell_type": "code",
   "execution_count": null,
   "metadata": {
    "colab": {
     "base_uri": "https://localhost:8080/"
    },
    "executionInfo": {
     "elapsed": 162,
     "status": "ok",
     "timestamp": 1747282659810,
     "user": {
      "displayName": "vinay samineni",
      "userId": "06600867491449533649"
     },
     "user_tz": -330
    },
    "id": "hfg83kSfKRM9",
    "outputId": "d83bfcb5-9f98-4644-f267-e4e498fae936"
   },
   "outputs": [],
   "source": [
    "!cp /content/CNN1.ipynb /content/CNN_Binary_classification/\n"
   ]
  },
  {
   "cell_type": "code",
   "execution_count": null,
   "metadata": {
    "colab": {
     "base_uri": "https://localhost:8080/"
    },
    "executionInfo": {
     "elapsed": 33,
     "status": "ok",
     "timestamp": 1747282713085,
     "user": {
      "displayName": "vinay samineni",
      "userId": "06600867491449533649"
     },
     "user_tz": -330
    },
    "id": "uEtMk5wRKUw6",
    "outputId": "e7d9f81a-086f-4424-a229-b7d30d85e487"
   },
   "outputs": [],
   "source": [
    "!ls /content"
   ]
  },
  {
   "cell_type": "code",
   "execution_count": null,
   "metadata": {
    "colab": {
     "base_uri": "https://localhost:8080/"
    },
    "executionInfo": {
     "elapsed": 122,
     "status": "ok",
     "timestamp": 1747282751844,
     "user": {
      "displayName": "vinay samineni",
      "userId": "06600867491449533649"
     },
     "user_tz": -330
    },
    "id": "FkhobXgFKlh8",
    "outputId": "e6cbe4ba-2c97-4d96-86a8-c813cbed9e5f"
   },
   "outputs": [],
   "source": [
    "!ls /content\n"
   ]
  },
  {
   "cell_type": "code",
   "execution_count": null,
   "metadata": {
    "id": "m2A0BlLXKu_f"
   },
   "outputs": [],
   "source": [
    "# Mount Google Drive\n",
    "from google.colab import drive\n",
    "drive.mount('/content/drive')\n"
   ]
  },
  {
   "cell_type": "code",
   "execution_count": null,
   "metadata": {
    "id": "KhpwLnprK4o-"
   },
   "outputs": [],
   "source": []
  }
 ],
 "metadata": {
  "accelerator": "GPU",
  "colab": {
   "authorship_tag": "ABX9TyMgdsFz8CRO4aMBeGWFzzgU",
   "gpuType": "T4",
   "provenance": []
  },
  "kernelspec": {
   "display_name": "Python 3",
   "name": "python3"
  },
  "language_info": {
   "name": "python"
  }
 },
 "nbformat": 4,
 "nbformat_minor": 0
}
